{
 "cells": [
  {
   "cell_type": "code",
   "execution_count": 1,
   "metadata": {},
   "outputs": [
    {
     "name": "stdout",
     "output_type": "stream",
     "text": [
      "Requirement already satisfied: tensorflow==1.15.0 in c:\\anaconda3\\envs\\practise\\lib\\site-packages (1.15.0)\n",
      "Requirement already satisfied: opt-einsum>=2.3.2 in c:\\anaconda3\\envs\\practise\\lib\\site-packages (from tensorflow==1.15.0) (3.2.0)\n",
      "Requirement already satisfied: gast==0.2.2 in c:\\anaconda3\\envs\\practise\\lib\\site-packages (from tensorflow==1.15.0) (0.2.2)\n",
      "Requirement already satisfied: tensorflow-estimator==1.15.1 in c:\\anaconda3\\envs\\practise\\lib\\site-packages (from tensorflow==1.15.0) (1.15.1)\n",
      "Requirement already satisfied: numpy<2.0,>=1.16.0 in c:\\anaconda3\\envs\\practise\\lib\\site-packages (from tensorflow==1.15.0) (1.18.1)\n",
      "Requirement already satisfied: six>=1.10.0 in c:\\anaconda3\\envs\\practise\\lib\\site-packages (from tensorflow==1.15.0) (1.13.0)\n",
      "Requirement already satisfied: grpcio>=1.8.6 in c:\\anaconda3\\envs\\practise\\lib\\site-packages (from tensorflow==1.15.0) (1.27.2)\n",
      "Requirement already satisfied: astor>=0.6.0 in c:\\anaconda3\\envs\\practise\\lib\\site-packages (from tensorflow==1.15.0) (0.8.1)\n",
      "Requirement already satisfied: termcolor>=1.1.0 in c:\\anaconda3\\envs\\practise\\lib\\site-packages (from tensorflow==1.15.0) (1.1.0)\n",
      "Requirement already satisfied: wheel>=0.26 in c:\\anaconda3\\envs\\practise\\lib\\site-packages (from tensorflow==1.15.0) (0.33.6)\n",
      "Requirement already satisfied: protobuf>=3.6.1 in c:\\anaconda3\\envs\\practise\\lib\\site-packages (from tensorflow==1.15.0) (3.11.4)\n",
      "Requirement already satisfied: keras-preprocessing>=1.0.5 in c:\\anaconda3\\envs\\practise\\lib\\site-packages (from tensorflow==1.15.0) (1.1.0)\n",
      "Collecting tensorboard<1.16.0,>=1.15.0\n",
      "  Using cached https://files.pythonhosted.org/packages/1e/e9/d3d747a97f7188f48aa5eda486907f3b345cd409f0a0850468ba867db246/tensorboard-1.15.0-py3-none-any.whl\n",
      "Requirement already satisfied: google-pasta>=0.1.6 in c:\\anaconda3\\envs\\practise\\lib\\site-packages (from tensorflow==1.15.0) (0.2.0)\n",
      "Requirement already satisfied: absl-py>=0.7.0 in c:\\anaconda3\\envs\\practise\\lib\\site-packages (from tensorflow==1.15.0) (0.9.0)\n",
      "Requirement already satisfied: keras-applications>=1.0.8 in c:\\anaconda3\\envs\\practise\\lib\\site-packages (from tensorflow==1.15.0) (1.0.8)\n",
      "Requirement already satisfied: wrapt>=1.11.1 in c:\\anaconda3\\envs\\practise\\lib\\site-packages (from tensorflow==1.15.0) (1.12.1)\n",
      "Requirement already satisfied: setuptools in c:\\anaconda3\\envs\\practise\\lib\\site-packages (from protobuf>=3.6.1->tensorflow==1.15.0) (42.0.2.post20191203)\n",
      "Requirement already satisfied: werkzeug>=0.11.15 in c:\\anaconda3\\envs\\practise\\lib\\site-packages (from tensorboard<1.16.0,>=1.15.0->tensorflow==1.15.0) (0.16.1)\n",
      "Requirement already satisfied: markdown>=2.6.8 in c:\\anaconda3\\envs\\practise\\lib\\site-packages (from tensorboard<1.16.0,>=1.15.0->tensorflow==1.15.0) (3.1.1)\n",
      "Requirement already satisfied: h5py in c:\\anaconda3\\envs\\practise\\lib\\site-packages (from keras-applications>=1.0.8->tensorflow==1.15.0) (2.10.0)\n",
      "Installing collected packages: tensorboard\n",
      "  Found existing installation: tensorboard 2.1.0\n",
      "    Uninstalling tensorboard-2.1.0:\n",
      "      Successfully uninstalled tensorboard-2.1.0\n",
      "Successfully installed tensorboard-1.15.0\n"
     ]
    }
   ],
   "source": [
    "!pip install tensorflow==1.15.0"
   ]
  },
  {
   "cell_type": "code",
   "execution_count": null,
   "metadata": {},
   "outputs": [
    {
     "name": "stderr",
     "output_type": "stream",
     "text": [
      "c:\\anaconda3\\envs\\practise\\lib\\site-packages\\h5py\\__init__.py:40: UserWarning: h5py is running against HDF5 1.10.5 when it was built against 1.10.4, this may cause problems\n",
      "  '{0}.{1}.{2}'.format(*version.hdf5_built_version_tuple)\n"
     ]
    }
   ],
   "source": [
    "import numpy as np\n",
    "import tensorflow as tf"
   ]
  },
  {
   "cell_type": "code",
   "execution_count": null,
   "metadata": {},
   "outputs": [],
   "source": [
    "tf.enable_eager_execution()\n",
    "print(tf.__version__)"
   ]
  },
  {
   "cell_type": "code",
   "execution_count": null,
   "metadata": {},
   "outputs": [],
   "source": [
    "users = ['Ryan', 'Danielle',  'Vijay', 'Chris']\n",
    "movies = ['Star Wars', 'The Dark Knight', 'Shrek', 'The Incredibles', 'Bleu', 'Memento']\n",
    "features = ['Action', 'Sci-Fi', 'Comedy', 'Cartoon', 'Drama']"
   ]
  },
  {
   "cell_type": "code",
   "execution_count": null,
   "metadata": {},
   "outputs": [],
   "source": [
    "num_users = len(users)\n",
    "num_movies = len(movies)\n",
    "num_feats = len(features)\n",
    "num_recommendations = 2"
   ]
  },
  {
   "cell_type": "code",
   "execution_count": null,
   "metadata": {},
   "outputs": [],
   "source": [
    "# each row represents a user's rating for the different movies\n",
    "users_movies = tf.constant([\n",
    "                [4,  6,  8,  0, 0, 0],\n",
    "                [0,  0, 10,  0, 8, 3],\n",
    "                [0,  6,  0,  0, 3, 7],\n",
    "                [10, 9,  0,  5, 0, 2]],dtype=tf.float32)\n",
    "\n",
    "# features of the movies one-hot encoded\n",
    "# e.g. columns could represent ['Action', 'Sci-Fi', 'Comedy', 'Cartoon', 'Drama']\n",
    "movies_feats = tf.constant([\n",
    "                [1, 1, 0, 0, 1],\n",
    "                [1, 1, 0, 0, 0],\n",
    "                [0, 0, 1, 1, 0],\n",
    "                [1, 0, 1, 1, 0],\n",
    "                [0, 0, 0, 0, 1],\n",
    "                [1, 0, 0, 0, 1]],dtype=tf.float32)\n"
   ]
  },
  {
   "cell_type": "code",
   "execution_count": null,
   "metadata": {},
   "outputs": [],
   "source": [
    "wgtd_feature_matrices = [tf.expand_dims(tf.transpose(users_movies)[:,i], axis = 1) * movies_feats for i in range(num_users)]\n",
    "users_movies_feats = tf.stack(wgtd_feature_matrices,axis=0)"
   ]
  },
  {
   "cell_type": "code",
   "execution_count": null,
   "metadata": {},
   "outputs": [],
   "source": [
    "users_movies_feats_sums = tf.reduce_sum(users_movies_feats, axis=1)\n",
    "users_movies_feats_totals = tf.reduce_sum(users_movies_feats_sums, axis=1)\n",
    "\n",
    "users_feats = tf.stack([users_movies_feats_sums[i,:]/users_movies_feats_totals[i] for i in range(num_users)], axis=0)\n",
    "users_feats"
   ]
  },
  {
   "cell_type": "code",
   "execution_count": null,
   "metadata": {},
   "outputs": [],
   "source": [
    "users_feats = users_feats/tf.reduce_sum(users_feats,axis=1,keepdims=True)\n",
    "users_feats"
   ]
  },
  {
   "cell_type": "code",
   "execution_count": null,
   "metadata": {},
   "outputs": [],
   "source": [
    "top_users_features = tf.nn.top_k(users_feats, num_feats)[1]\n",
    "top_users_features"
   ]
  },
  {
   "cell_type": "code",
   "execution_count": null,
   "metadata": {},
   "outputs": [],
   "source": [
    "for i in range(num_users):\n",
    "    feature_names = [features[index] for index in top_users_features[i]]\n",
    "    print('{}: {}'.format(users[i],feature_names))"
   ]
  },
  {
   "cell_type": "code",
   "execution_count": null,
   "metadata": {},
   "outputs": [],
   "source": [
    "users_ratings = [tf.map_fn(lambda x: tf.tensordot(users_feats[i],x,axes=1), tf.cast(movies_feats,tf.float32)) \n",
    "                 for i in range(num_users)]\n",
    "users_ratings = tf.stack(users_ratings)\n",
    "users_ratings"
   ]
  },
  {
   "cell_type": "code",
   "execution_count": null,
   "metadata": {},
   "outputs": [],
   "source": [
    "users_ratings_new = tf.where(tf.equal(users_movies, tf.zeros_like(users_movies)),\n",
    "                                  users_ratings,\n",
    "                                  tf.zeros_like(tf.cast(users_movies, tf.float32)))\n",
    "users_ratings_new"
   ]
  },
  {
   "cell_type": "code",
   "execution_count": null,
   "metadata": {},
   "outputs": [],
   "source": [
    "top_movies = tf.nn.top_k(users_ratings_new, num_recommendations)[1]\n",
    "top_movies"
   ]
  },
  {
   "cell_type": "code",
   "execution_count": null,
   "metadata": {},
   "outputs": [],
   "source": [
    "for i in range(num_users):\n",
    "    movie_names = [movies[index] for index in top_movies[i]]\n",
    "    print('{}: {}'.format(users[i],movie_names))"
   ]
  }
 ],
 "metadata": {
  "kernelspec": {
   "display_name": "Python 3",
   "language": "python",
   "name": "python3"
  },
  "language_info": {
   "codemirror_mode": {
    "name": "ipython",
    "version": 3
   },
   "file_extension": ".py",
   "mimetype": "text/x-python",
   "name": "python",
   "nbconvert_exporter": "python",
   "pygments_lexer": "ipython3",
   "version": "3.6.9"
  }
 },
 "nbformat": 4,
 "nbformat_minor": 2
}
