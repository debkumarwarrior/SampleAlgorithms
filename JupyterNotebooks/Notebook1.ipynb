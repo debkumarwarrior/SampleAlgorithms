{
 "cells": [
  {
   "cell_type": "markdown",
   "id": "informative-football",
   "metadata": {},
   "source": [
    "# Difference b/w 'is' and '=='"
   ]
  },
  {
   "cell_type": "code",
   "execution_count": 1,
   "id": "royal-security",
   "metadata": {},
   "outputs": [],
   "source": [
    "a = 'Python'\n",
    "b = 'Python'"
   ]
  },
  {
   "cell_type": "code",
   "execution_count": 2,
   "id": "human-consolidation",
   "metadata": {},
   "outputs": [
    {
     "data": {
      "text/plain": [
       "True"
      ]
     },
     "execution_count": 2,
     "metadata": {},
     "output_type": "execute_result"
    }
   ],
   "source": [
    "a is b"
   ]
  },
  {
   "cell_type": "code",
   "execution_count": 3,
   "id": "unexpected-transsexual",
   "metadata": {},
   "outputs": [
    {
     "data": {
      "text/plain": [
       "True"
      ]
     },
     "execution_count": 3,
     "metadata": {},
     "output_type": "execute_result"
    }
   ],
   "source": [
    "a == b"
   ]
  },
  {
   "cell_type": "code",
   "execution_count": 4,
   "id": "cathedral-injury",
   "metadata": {},
   "outputs": [],
   "source": [
    "c = 'Python!'\n",
    "d = 'Python!'"
   ]
  },
  {
   "cell_type": "code",
   "execution_count": 5,
   "id": "coral-conducting",
   "metadata": {},
   "outputs": [
    {
     "data": {
      "text/plain": [
       "False"
      ]
     },
     "execution_count": 5,
     "metadata": {},
     "output_type": "execute_result"
    }
   ],
   "source": [
    "c is d"
   ]
  },
  {
   "cell_type": "code",
   "execution_count": 6,
   "id": "northern-yesterday",
   "metadata": {},
   "outputs": [
    {
     "data": {
      "text/plain": [
       "True"
      ]
     },
     "execution_count": 6,
     "metadata": {},
     "output_type": "execute_result"
    }
   ],
   "source": [
    "c == d"
   ]
  },
  {
   "cell_type": "raw",
   "id": "oriented-rouge",
   "metadata": {},
   "source": [
    "'is' operator checks if both the variables are reference to the same reference in the memory.\n",
    "'==' operator checks if both the variables hold the same value."
   ]
  }
 ],
 "metadata": {
  "kernelspec": {
   "display_name": "Python 3",
   "language": "python",
   "name": "python3"
  },
  "language_info": {
   "codemirror_mode": {
    "name": "ipython",
    "version": 3
   },
   "file_extension": ".py",
   "mimetype": "text/x-python",
   "name": "python",
   "nbconvert_exporter": "python",
   "pygments_lexer": "ipython3",
   "version": "3.8.0"
  }
 },
 "nbformat": 4,
 "nbformat_minor": 5
}
